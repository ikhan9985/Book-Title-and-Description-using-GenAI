{
 "cells": [
  {
   "cell_type": "markdown",
   "id": "2145c11e-8db4-44c5-a2e4-f1603c4db666",
   "metadata": {},
   "source": [
    "## Step 1: Tokenize with Labels"
   ]
  },
  {
   "cell_type": "code",
   "execution_count": 11,
   "id": "920d83ac-1f85-43fe-a225-d542e2da8039",
   "metadata": {},
   "outputs": [],
   "source": [
    "def tokenize_function(examples):\n",
    "    tokenized_inputs = tokenizer(examples[\"text\"], padding=\"max_length\", truncation=True, max_length=50)\n",
    "    # Create labels, which are the same as input_ids for language modeling\n",
    "    tokenized_inputs[\"labels\"] = tokenized_inputs[\"input_ids\"].copy()\n",
    "    return tokenized_inputs"
   ]
  },
  {
   "cell_type": "markdown",
   "id": "b3684be9-bed8-402e-8d83-1f8b7dcfec75",
   "metadata": {},
   "source": [
    "## Step 2: Generate a Dataset"
   ]
  },
  {
   "cell_type": "code",
   "execution_count": 12,
   "id": "b043a0c0-c48a-4ffc-ad15-84e22679f087",
   "metadata": {},
   "outputs": [
    {
     "name": "stdout",
     "output_type": "stream",
     "text": [
      "Dataset generated and saved to book_titles_and_descriptions.csv\n"
     ]
    }
   ],
   "source": [
    "import pandas as pd\n",
    "\n",
    "# Generate a small dataset of book titles and descriptions\n",
    "data = {\n",
    "    \"title\": [\n",
    "        \"The Enchanted Forest\",\n",
    "        \"The Lost City of Zandar\",\n",
    "        \"Journey to the Center of the Mind\",\n",
    "        \"The Last Stand of the Guardians\",\n",
    "        \"Mysteries of the Deep Sea\"\n",
    "    ],\n",
    "    \"description\": [\n",
    "        \"A thrilling adventure in a magical forest where mythical creatures roam.\",\n",
    "        \"An epic tale of discovery in an ancient, forgotten city.\",\n",
    "        \"A mind-bending expedition into the depths of human consciousness.\",\n",
    "        \"The final battle between good and evil in a land of legends.\",\n",
    "        \"Exploring the unknown mysteries that lie beneath the ocean waves.\"\n",
    "    ]\n",
    "}\n",
    "\n",
    "df = pd.DataFrame(data)\n",
    "df.to_csv(\"book_titles_and_descriptions.csv\", index=False)\n",
    "print(\"Dataset generated and saved to book_titles_and_descriptions.csv\")"
   ]
  },
  {
   "cell_type": "markdown",
   "id": "fe3ed7ae-37e8-4912-a626-9800f7af8a03",
   "metadata": {},
   "source": [
    "## Step 3: Load the Dataset and Preprocess"
   ]
  },
  {
   "cell_type": "code",
   "execution_count": 13,
   "id": "b8a44530-a1ef-4da1-b3fa-83b08a8eec1c",
   "metadata": {},
   "outputs": [
    {
     "data": {
      "application/vnd.jupyter.widget-view+json": {
       "model_id": "c87e89e90df448e0b4416c2f881d9ecc",
       "version_major": 2,
       "version_minor": 0
      },
      "text/plain": [
       "Map:   0%|          | 0/5 [00:00<?, ? examples/s]"
      ]
     },
     "metadata": {},
     "output_type": "display_data"
    },
    {
     "name": "stdout",
     "output_type": "stream",
     "text": [
      "DatasetDict({\n",
      "    train: Dataset({\n",
      "        features: ['title', 'description', 'text'],\n",
      "        num_rows: 4\n",
      "    })\n",
      "    test: Dataset({\n",
      "        features: ['title', 'description', 'text'],\n",
      "        num_rows: 1\n",
      "    })\n",
      "})\n"
     ]
    }
   ],
   "source": [
    "import pandas as pd\n",
    "from datasets import Dataset\n",
    "\n",
    "# Load the dataset\n",
    "df = pd.read_csv(\"book_titles_and_descriptions.csv\")\n",
    "\n",
    "# Convert to Hugging Face dataset\n",
    "dataset = Dataset.from_pandas(df)\n",
    "\n",
    "# Concatenate title and description for text generation\n",
    "def concatenate_title_description(example):\n",
    "    return {\"text\": example[\"title\"] + \" - \" + example[\"description\"]}\n",
    "\n",
    "dataset = dataset.map(concatenate_title_description)\n",
    "dataset = dataset.train_test_split(test_size=0.2)\n",
    "print(dataset)"
   ]
  },
  {
   "cell_type": "markdown",
   "id": "d2cced05-263e-4b40-b15f-85ed706bd917",
   "metadata": {},
   "source": [
    "## Step 4: Tokenize with Labels"
   ]
  },
  {
   "cell_type": "code",
   "execution_count": 14,
   "id": "4016aec4-31c8-4430-8818-945633174281",
   "metadata": {
    "scrolled": true
   },
   "outputs": [
    {
     "data": {
      "application/vnd.jupyter.widget-view+json": {
       "model_id": "1a705af7c62948de84e2050c503f56b9",
       "version_major": 2,
       "version_minor": 0
      },
      "text/plain": [
       "Map:   0%|          | 0/4 [00:00<?, ? examples/s]"
      ]
     },
     "metadata": {},
     "output_type": "display_data"
    },
    {
     "data": {
      "application/vnd.jupyter.widget-view+json": {
       "model_id": "f9e4855bf1594cad9cce781832e17591",
       "version_major": 2,
       "version_minor": 0
      },
      "text/plain": [
       "Map:   0%|          | 0/1 [00:00<?, ? examples/s]"
      ]
     },
     "metadata": {},
     "output_type": "display_data"
    }
   ],
   "source": [
    "from transformers import GPT2LMHeadModel, GPT2Tokenizer, Trainer, TrainingArguments\n",
    "\n",
    "# Load the tokenizer and model\n",
    "tokenizer = GPT2Tokenizer.from_pretrained(\"gpt2\")\n",
    "\n",
    "# Set the padding token to be the EOS token\n",
    "tokenizer.pad_token = tokenizer.eos_token\n",
    "tokenizer.pad_token_id = tokenizer.eos_token_id  # Set pad_token_id explicitly\n",
    "\n",
    "model = GPT2LMHeadModel.from_pretrained(\"gpt2\")\n",
    "\n",
    "# Tokenize the dataset with labels\n",
    "def tokenize_function(examples):\n",
    "    tokenized_inputs = tokenizer(examples[\"text\"], padding=\"max_length\", truncation=True, max_length=50)\n",
    "    # Create labels, which are the same as input_ids for language modeling\n",
    "    tokenized_inputs[\"labels\"] = tokenized_inputs[\"input_ids\"].copy()\n",
    "    return tokenized_inputs\n",
    "\n",
    "tokenized_datasets = dataset.map(tokenize_function, batched=True)"
   ]
  },
  {
   "cell_type": "markdown",
   "id": "7d5ad950-9c25-40a5-93d6-b28de46e04c1",
   "metadata": {},
   "source": [
    "## Step 5: Train the Model"
   ]
  },
  {
   "cell_type": "code",
   "execution_count": 15,
   "id": "bd773a97-54f6-4c15-b880-44092f500f23",
   "metadata": {},
   "outputs": [
    {
     "data": {
      "text/html": [
       "\n",
       "    <div>\n",
       "      \n",
       "      <progress value='2' max='2' style='width:300px; height:20px; vertical-align: middle;'></progress>\n",
       "      [2/2 10:41, Epoch 1/1]\n",
       "    </div>\n",
       "    <table border=\"1\" class=\"dataframe\">\n",
       "  <thead>\n",
       " <tr style=\"text-align: left;\">\n",
       "      <th>Step</th>\n",
       "      <th>Training Loss</th>\n",
       "    </tr>\n",
       "  </thead>\n",
       "  <tbody>\n",
       "  </tbody>\n",
       "</table><p>"
      ],
      "text/plain": [
       "<IPython.core.display.HTML object>"
      ]
     },
     "metadata": {},
     "output_type": "display_data"
    },
    {
     "data": {
      "text/plain": [
       "TrainOutput(global_step=2, training_loss=6.592367649078369, metrics={'train_runtime': 731.3578, 'train_samples_per_second': 0.005, 'train_steps_per_second': 0.003, 'total_flos': 102067200000.0, 'train_loss': 6.592367649078369, 'epoch': 1.0})"
      ]
     },
     "execution_count": 15,
     "metadata": {},
     "output_type": "execute_result"
    }
   ],
   "source": [
    "# Set training arguments\n",
    "training_args = TrainingArguments(\n",
    "    output_dir=\"./results\",\n",
    "    overwrite_output_dir=True,\n",
    "    num_train_epochs=1,\n",
    "    per_device_train_batch_size=2,\n",
    "    save_steps=10_000,\n",
    "    save_total_limit=2,\n",
    ")\n",
    "\n",
    "# Define the trainer\n",
    "trainer = Trainer(\n",
    "    model=model,\n",
    "    args=training_args,\n",
    "    train_dataset=tokenized_datasets[\"train\"],\n",
    "    eval_dataset=tokenized_datasets[\"test\"],\n",
    ")\n",
    "\n",
    "# Train the model\n",
    "trainer.train()"
   ]
  },
  {
   "cell_type": "markdown",
   "id": "df3ef5a2-26a4-4ba9-a3e5-a08434e1c20e",
   "metadata": {},
   "source": [
    "## Step 6: Generate Text"
   ]
  },
  {
   "cell_type": "code",
   "execution_count": 16,
   "id": "9d11146c-9376-49d1-be19-8a03f3b2e899",
   "metadata": {},
   "outputs": [
    {
     "name": "stderr",
     "output_type": "stream",
     "text": [
      "Setting `pad_token_id` to `eos_token_id`:50256 for open-end generation.\n"
     ]
    },
    {
     "name": "stdout",
     "output_type": "stream",
     "text": [
      "The Forgotten Temple\n",
      "\n",
      "The Forgotten Temple is a dungeon in the Forgotten Temple. It is located in the Forgotten Temple.\n",
      "\n",
      "The Forgotten Temple is a dungeon in the Forgotten Temple.\n",
      "\n",
      "The Forgotten Forgotten Temple is a dungeon in the Forgotten Temple\n"
     ]
    }
   ],
   "source": [
    "from transformers import GPT2LMHeadModel\n",
    "\n",
    "\n",
    "# Generate text example\n",
    "input_text = \"The Forgotten Temple\"\n",
    "input_ids = tokenizer.encode(input_text, return_tensors=\"pt\")\n",
    "\n",
    "# Create attention mask\n",
    "attention_mask = (input_ids != tokenizer.pad_token_id).long()\n",
    "\n",
    "# Generate text\n",
    "output = model.generate(input_ids, attention_mask=attention_mask, max_length=50, num_return_sequences=1)\n",
    "\n",
    "# Decode the generated text\n",
    "generated_text = tokenizer.decode(output[0], skip_special_tokens=True)\n",
    "print(generated_text)\n"
   ]
  },
  {
   "cell_type": "code",
   "execution_count": null,
   "id": "a03cbb7a-d04d-498e-b811-cc2d09ee5e2d",
   "metadata": {},
   "outputs": [],
   "source": []
  }
 ],
 "metadata": {
  "kernelspec": {
   "display_name": "Python 3 (ipykernel)",
   "language": "python",
   "name": "python3"
  },
  "language_info": {
   "codemirror_mode": {
    "name": "ipython",
    "version": 3
   },
   "file_extension": ".py",
   "mimetype": "text/x-python",
   "name": "python",
   "nbconvert_exporter": "python",
   "pygments_lexer": "ipython3",
   "version": "3.12.3"
  }
 },
 "nbformat": 4,
 "nbformat_minor": 5
}
